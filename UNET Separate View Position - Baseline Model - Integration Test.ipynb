{
 "cells": [
  {
   "cell_type": "code",
   "execution_count": 1,
   "metadata": {
    "collapsed": true
   },
   "outputs": [],
   "source": [
    "import os\n",
    "import time\n",
    "\n",
    "import torch\n",
    "import numpy as np\n",
    "\n",
    "from utilities import *\n",
    "from metrics import *\n",
    "from pneumonia_dataset import load_data\n",
    "from unet import LeakyUNET, BCEWithLogitLoss2D\n",
    "from experiment import *"
   ]
  },
  {
   "cell_type": "code",
   "execution_count": 2,
   "metadata": {
    "collapsed": true
   },
   "outputs": [],
   "source": [
    "EXP_NAME = 'UNET_SingleView_Baseline'\n",
    "timestamp = time.strftime('%m%d-%H%M%S', time.localtime())\n",
    "output_dir = os.path.join('./output/', EXP_NAME, timestamp)\n",
    "os.makedirs(output_dir)\n",
    "\n",
    "debug = True\n",
    "original_dim = 1024\n",
    "\n",
    "# TODO: change rescale_factor or batch_size\n",
    "rescale_factor = 4\n",
    "batch_size = 6\n",
    "validation_prop = 0.1\n",
    "\n",
    "data_dir = './data'\n",
    "train_csv_path = os.path.join(data_dir, 'train.csv')\n",
    "test_csv_path = os.path.join(data_dir, 'test.csv')\n",
    "\n",
    "train_images_dir = os.path.join(data_dir, 'stage_1_train_images/')\n",
    "test_images_dir = os.path.join(data_dir, 'stage_1_test_images/')\n",
    "\n",
    "train_loader, dev_loader, dev_dataset_for_predict, dev_loader_for_predict, test_loader, test_df, test_pids, boxes_by_pid_dict, min_box_area = load_data(train_csv_path, test_csv_path, train_images_dir, test_images_dir, batch_size, validation_prop, rescale_factor)\n",
    "min_box_area = int(round(min_box_area / float(rescale_factor**2)))"
   ]
  },
  {
   "cell_type": "code",
   "execution_count": 3,
   "metadata": {},
   "outputs": [
    {
     "name": "stdout",
     "output_type": "stream",
     "text": [
      "Training for 1 epochs\n",
      "Epoch 1/1. Learning rate = 0.500\n"
     ]
    },
    {
     "name": "stderr",
     "output_type": "stream",
     "text": [
      "/nfs01/shared_software/anaconda3/envs/gia/lib/python3.6/site-packages/skimage/transform/_warps.py:110: UserWarning: Anti-aliasing will be enabled by default in skimage 0.15 to avoid aliasing artifacts when down-sampling images.\n",
      "  warn(\"Anti-aliasing will be enabled by default in skimage 0.15 to \"\n"
     ]
    },
    {
     "name": "stdout",
     "output_type": "stream",
     "text": [
      "--- Train batch 0 / 5: batch loss = 0.8858140 ; average loss = 0.8858140 ; batch precision = 0.0000000 ; \n",
      "    12.26 seconds\n",
      "--- Train batch 5 / 5: batch loss = 0.6804337 ; average loss = 0.7157102 ; batch precision = 0.0000000 ; \n",
      "    3.11 seconds\n",
      "- Train epoch metrics: \n",
      "--- Validation batch 0 / 5\n",
      "- Eval metrics: average loss = 336.9691518 ; average precision = 0.0000000; \n",
      " Time 1.17 seconds\n",
      "- New best loss: 336.9692\n",
      "- New best precision: 0.0000\n",
      "Epoch time 0.63 minutes\n",
      "- Predicting with best PRECISION model\n",
      "Predicting batch 1 / 428\n",
      "Predicting batch 101 / 428\n",
      "Predicting batch 201 / 428\n",
      "Predicting batch 301 / 428\n",
      "Predicting batch 401 / 428\n",
      "Predicting batch 1 / 167\n",
      "Predicting batch 101 / 167\n",
      "- Predicting with best LOSS model\n",
      "Predicting batch 1 / 428\n",
      "Predicting batch 101 / 428\n",
      "Predicting batch 201 / 428\n",
      "Predicting batch 301 / 428\n",
      "Predicting batch 401 / 428\n",
      "Predicting batch 1 / 167\n",
      "Predicting batch 101 / 167\n",
      "Yay!\n"
     ]
    }
   ],
   "source": [
    "model = LeakyUNET().cuda()\n",
    "\n",
    "loss_fn = BCEWithLogitLoss2D().cuda()\n",
    "\n",
    "init_learning_rate = 0.5\n",
    "\n",
    "num_epochs = 1 if debug else 10\n",
    "num_train_steps = 5 if debug else len(train_loader)\n",
    "num_dev_steps = 5 if debug else len(dev_loader)\n",
    "\n",
    "img_dim = int(round(original_dim / rescale_factor))\n",
    "\n",
    "print(\"Training for {} epochs\".format(num_epochs))\n",
    "histories, best_models = train_and_evaluate(model, train_loader, dev_loader, init_learning_rate,\n",
    "                                          loss_fn, num_epochs, num_train_steps, num_dev_steps,\n",
    "                                          boxes_by_pid_dict, rescale_factor, img_dim, output_dir, min_box_area=min_box_area)\n",
    "\n",
    "print('- Predicting with best PRECISION model')\n",
    "best_precision_model = best_models['best precision model']\n",
    "torch.save(best_precision_model, os.path.join(output_dir, 'best_precision_model.pt'))\n",
    "dev_predictions = predict(best_precision_model, dev_loader_for_predict)\n",
    "test_predictions = predict(best_precision_model, test_loader)\n",
    "\n",
    "# box_thresh = best_box_thresh_from_dev_predictions(dev_predictions, dev_dataset_for_predict, rescale_factor, boxes_by_pid_dict)\n",
    "box_thresh = 0.2\n",
    "save_predictions_to_csv(test_df, test_pids, test_predictions, box_thresh, rescale_factor, output_dir, 'best_precision')\n",
    "\n",
    "print('- Predicting with best LOSS model')\n",
    "best_loss_model = best_models['best loss model']\n",
    "torch.save(best_loss_model, os.path.join(output_dir, 'best_loss_model.pt'))\n",
    "dev_predictions = predict(best_loss_model, dev_loader_for_predict)\n",
    "test_predictions = predict(best_loss_model, test_loader)\n",
    "\n",
    "# box_thresh = best_box_thresh_from_dev_predictions(dev_predictions, dev_dataset_for_predict, rescale_factor, boxes_by_pid_dict)\n",
    "box_thresh = 0.2\n",
    "save_predictions_to_csv(test_df, test_pids, test_predictions, box_thresh, rescale_factor, output_dir, 'best_loss')\n",
    "\n",
    "print('Yay!')"
   ]
  }
 ],
 "metadata": {
  "kernelspec": {
   "display_name": "Python 3",
   "language": "python",
   "name": "python3"
  },
  "language_info": {
   "codemirror_mode": {
    "name": "ipython",
    "version": 3
   },
   "file_extension": ".py",
   "mimetype": "text/x-python",
   "name": "python",
   "nbconvert_exporter": "python",
   "pygments_lexer": "ipython3",
   "version": "3.6.3"
  }
 },
 "nbformat": 4,
 "nbformat_minor": 2
}
