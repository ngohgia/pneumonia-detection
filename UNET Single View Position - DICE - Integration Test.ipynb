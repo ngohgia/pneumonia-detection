{
 "cells": [
  {
   "cell_type": "code",
   "execution_count": 1,
   "metadata": {},
   "outputs": [],
   "source": [
    "import os\n",
    "import time\n",
    "\n",
    "import torch\n",
    "import numpy as np\n",
    "\n",
    "from utilities import *\n",
    "from metrics import *\n",
    "from pneumonia_dataset import load_data\n",
    "from unet import LeakyUNET, DiceLoss\n",
    "from experiment import *"
   ]
  },
  {
   "cell_type": "code",
   "execution_count": 2,
   "metadata": {},
   "outputs": [
    {
     "ename": "ValueError",
     "evalue": "too many values to unpack (expected 9)",
     "output_type": "error",
     "traceback": [
      "\u001b[0;31m---------------------------------------------------------------------------\u001b[0m",
      "\u001b[0;31mValueError\u001b[0m                                Traceback (most recent call last)",
      "\u001b[0;32m<ipython-input-2-51374859fd9e>\u001b[0m in \u001b[0;36m<module>\u001b[0;34m()\u001b[0m\n\u001b[1;32m     19\u001b[0m \u001b[0mtest_images_dir\u001b[0m \u001b[0;34m=\u001b[0m \u001b[0mos\u001b[0m\u001b[0;34m.\u001b[0m\u001b[0mpath\u001b[0m\u001b[0;34m.\u001b[0m\u001b[0mjoin\u001b[0m\u001b[0;34m(\u001b[0m\u001b[0mdata_dir\u001b[0m\u001b[0;34m,\u001b[0m \u001b[0;34m'stage_1_test_images/'\u001b[0m\u001b[0;34m)\u001b[0m\u001b[0;34m\u001b[0m\u001b[0m\n\u001b[1;32m     20\u001b[0m \u001b[0;34m\u001b[0m\u001b[0m\n\u001b[0;32m---> 21\u001b[0;31m \u001b[0mtrain_loader\u001b[0m\u001b[0;34m,\u001b[0m \u001b[0mdev_loader\u001b[0m\u001b[0;34m,\u001b[0m \u001b[0mdev_dataset_for_predict\u001b[0m\u001b[0;34m,\u001b[0m \u001b[0mdev_loader_for_predict\u001b[0m\u001b[0;34m,\u001b[0m \u001b[0mtest_loader\u001b[0m\u001b[0;34m,\u001b[0m \u001b[0mtest_df\u001b[0m\u001b[0;34m,\u001b[0m \u001b[0mtest_pids\u001b[0m\u001b[0;34m,\u001b[0m \u001b[0mboxes_by_pid_dict\u001b[0m\u001b[0;34m,\u001b[0m \u001b[0mmin_box_area\u001b[0m \u001b[0;34m=\u001b[0m \u001b[0mload_data\u001b[0m\u001b[0;34m(\u001b[0m\u001b[0mtrain_csv_path\u001b[0m\u001b[0;34m,\u001b[0m \u001b[0mtest_csv_path\u001b[0m\u001b[0;34m,\u001b[0m \u001b[0mtrain_images_dir\u001b[0m\u001b[0;34m,\u001b[0m \u001b[0mtest_images_dir\u001b[0m\u001b[0;34m,\u001b[0m \u001b[0mbatch_size\u001b[0m\u001b[0;34m,\u001b[0m \u001b[0mvalidation_prop\u001b[0m\u001b[0;34m,\u001b[0m \u001b[0mrescale_factor\u001b[0m\u001b[0;34m)\u001b[0m\u001b[0;34m\u001b[0m\u001b[0m\n\u001b[0m\u001b[1;32m     22\u001b[0m \u001b[0mmin_box_area\u001b[0m \u001b[0;34m=\u001b[0m \u001b[0mint\u001b[0m\u001b[0;34m(\u001b[0m\u001b[0mround\u001b[0m\u001b[0;34m(\u001b[0m\u001b[0mmin_box_area\u001b[0m \u001b[0;34m/\u001b[0m \u001b[0mfloat\u001b[0m\u001b[0;34m(\u001b[0m\u001b[0mrescale_factor\u001b[0m\u001b[0;34m**\u001b[0m\u001b[0;36m2\u001b[0m\u001b[0;34m)\u001b[0m\u001b[0;34m)\u001b[0m\u001b[0;34m)\u001b[0m\u001b[0;34m\u001b[0m\u001b[0m\n",
      "\u001b[0;31mValueError\u001b[0m: too many values to unpack (expected 9)"
     ]
    }
   ],
   "source": [
    "EXP_NAME = 'UNET_SingleView_Baseline'\n",
    "timestamp = time.strftime('%m%d-%H%M%S', time.localtime())\n",
    "output_dir = os.path.join('./output/', EXP_NAME, timestamp)\n",
    "os.makedirs(output_dir)\n",
    "\n",
    "debug = True\n",
    "original_dim = 1024\n",
    "\n",
    "# TODO: change rescale_factor or batch_size\n",
    "rescale_factor = 4\n",
    "batch_size = 6\n",
    "validation_prop = 0.1\n",
    "\n",
    "data_dir = './data'\n",
    "train_csv_path = os.path.join(data_dir, 'train.csv')\n",
    "test_csv_path = os.path.join(data_dir, 'test.csv')\n",
    "\n",
    "train_images_dir = os.path.join(data_dir, 'stage_1_train_images/')\n",
    "test_images_dir = os.path.join(data_dir, 'stage_1_test_images/')\n",
    "\n",
    "train_loader, dev_loader, dev_dataset_for_predict, dev_loader_for_predict, test_loader, test_df, test_pids, boxes_by_pid_dict, min_box_area = load_data(train_csv_path, test_csv_path, train_images_dir, test_images_dir, batch_size, validation_prop, rescale_factor)\n",
    "min_box_area = int(round(min_box_area / float(rescale_factor**2)))"
   ]
  },
  {
   "cell_type": "code",
   "execution_count": null,
   "metadata": {},
   "outputs": [],
   "source": [
    "model = LeakyUNET().cuda()\n",
    "\n",
    "loss_fn = DiceLoss().cuda()\n",
    "\n",
    "init_learning_rate = 0.5\n",
    "\n",
    "num_epochs = 1 if debug else 10\n",
    "num_train_steps = 5 if debug else len(train_loader)\n",
    "num_dev_steps = 5 if debug else len(dev_loader)\n",
    "\n",
    "img_dim = int(round(original_dim / rescale_factor))\n",
    "\n",
    "print(\"Training for {} epochs\".format(num_epochs))\n",
    "histories, best_models = train_and_evaluate(model, train_loader, dev_loader, init_learning_rate,\n",
    "                                          loss_fn, num_epochs, num_train_steps, num_dev_steps,\n",
    "                                          boxes_by_pid_dict, rescale_factor, img_dim, output_dir, min_box_area=min_box_area)\n",
    "\n",
    "print('- Predicting with best PRECISION model')\n",
    "best_precision_model = best_models['best precision model']\n",
    "torch.save(best_precision_model, os.path.join(output_dir, 'best_precision_model.pt'))\n",
    "dev_predictions = predict(best_precision_model, dev_loader_for_predict)\n",
    "test_predictions = predict(best_precision_model, test_loader)\n",
    "\n",
    "# box_thresh = best_box_thresh_from_dev_predictions(dev_predictions, dev_dataset_for_predict, rescale_factor, boxes_by_pid_dict)\n",
    "box_thresh = 0.2\n",
    "save_predictions_to_csv(test_df, test_pids, test_predictions, box_thresh, rescale_factor, output_dir, 'best_precision')\n",
    "\n",
    "print('- Predicting with best LOSS model')\n",
    "best_loss_model = best_models['best loss model']\n",
    "torch.save(best_loss_model, os.path.join(output_dir, 'best_loss_model.pt'))\n",
    "dev_predictions = predict(best_loss_model, dev_loader_for_predict)\n",
    "test_predictions = predict(best_loss_model, test_loader)\n",
    "\n",
    "# box_thresh = best_box_thresh_from_dev_predictions(dev_predictions, dev_dataset_for_predict, rescale_factor, boxes_by_pid_dict)\n",
    "box_thresh = 0.2\n",
    "save_predictions_to_csv(test_df, test_pids, test_predictions, box_thresh, rescale_factor, output_dir, 'best_loss')\n",
    "\n",
    "print('Yay!')"
   ]
  }
 ],
 "metadata": {
  "kernelspec": {
   "display_name": "Python 3",
   "language": "python",
   "name": "python3"
  },
  "language_info": {
   "codemirror_mode": {
    "name": "ipython",
    "version": 3
   },
   "file_extension": ".py",
   "mimetype": "text/x-python",
   "name": "python",
   "nbconvert_exporter": "python",
   "pygments_lexer": "ipython3",
   "version": "3.6.5"
  }
 },
 "nbformat": 4,
 "nbformat_minor": 2
}
