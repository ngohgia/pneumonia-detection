{
 "cells": [
  {
   "cell_type": "code",
   "execution_count": 1,
   "metadata": {},
   "outputs": [
    {
     "ename": "ModuleNotFoundError",
     "evalue": "No module named 'utilities'",
     "output_type": "error",
     "traceback": [
      "\u001b[0;31m---------------------------------------------------------------------------\u001b[0m",
      "\u001b[0;31mModuleNotFoundError\u001b[0m                       Traceback (most recent call last)",
      "\u001b[0;32m<ipython-input-1-54ec0c1d352e>\u001b[0m in \u001b[0;36m<module>\u001b[0;34m()\u001b[0m\n\u001b[1;32m     27\u001b[0m \u001b[0;32mimport\u001b[0m \u001b[0mpydicom\u001b[0m\u001b[0;34m\u001b[0m\u001b[0m\n\u001b[1;32m     28\u001b[0m \u001b[0;34m\u001b[0m\u001b[0m\n\u001b[0;32m---> 29\u001b[0;31m \u001b[0;32mfrom\u001b[0m \u001b[0mutilities\u001b[0m \u001b[0;32mimport\u001b[0m \u001b[0;34m*\u001b[0m\u001b[0;34m\u001b[0m\u001b[0m\n\u001b[0m\u001b[1;32m     30\u001b[0m \u001b[0;34m\u001b[0m\u001b[0m\n\u001b[1;32m     31\u001b[0m \u001b[0moriginal_dim\u001b[0m \u001b[0;34m=\u001b[0m \u001b[0;36m1024\u001b[0m\u001b[0;34m\u001b[0m\u001b[0m\n",
      "\u001b[0;31mModuleNotFoundError\u001b[0m: No module named 'utilities'"
     ]
    }
   ],
   "source": [
    "import os\n",
    "import time\n",
    "\n",
    "import skimage\n",
    "from skimage.transform import resize\n",
    "from skimage.exposure import rescale_intensity\n",
    "from scipy.ndimage.interpolation import map_coordinates\n",
    "from scipy.ndimage.filters import gaussian_filter\n",
    "import PIL\n",
    "\n",
    "import torch\n",
    "import torch.nn.functional as F\n",
    "from torch import nn\n",
    "from torch.utils.data import DataLoader\n",
    "from torch.utils.data.dataset import Dataset as torchDataset\n",
    "import torchvision as tv\n",
    "from torch.autograd import Variable\n",
    "\n",
    "import numpy as np\n",
    "import pandas as pd\n",
    "import matplotlib.pyplot as plt\n",
    "import matplotlib as mpl\n",
    "from matplotlib.patches import Rectangle\n",
    "\n",
    "import shutil\n",
    "\n",
    "import pydicom\n",
    "\n",
    "from utilities import *\n",
    "\n",
    "original_dim = 1024\n",
    "\n",
    "timestamp = time.strftime('%m%d-%H%M%S', time.localtime())\n",
    "data_dir = '../data'\n",
    "output_dir = os.path.join('../output/', timestamp)\n",
    "\n",
    "train_df = pd.read_csv(os.path.join(data_dir, 'train.csv'))\n",
    "test_df = pd.read_csv(os.path.join(data_dir, 'test.csv'))\n",
    "\n",
    "train_df.head(3)"
   ]
  },
  {
   "cell_type": "code",
   "execution_count": null,
   "metadata": {},
   "outputs": [],
   "source": [
    "train_df['box_area'] = train_df['width'] * train_df['height']\n",
    "train_df['box_area'].hist(bins=100)\n",
    "train_df['box_area'].describe()\n",
    "\n",
    "min_box_area = 2000"
   ]
  },
  {
   "cell_type": "code",
   "execution_count": null,
   "metadata": {},
   "outputs": [],
   "source": [
    "validation_prop = 0.1\n",
    "\n",
    "train_df = train_df.sample(frac=1, random_state=42)\n",
    "pids = [pid for pid in train_df['patientId'].unique()]\n",
    "\n",
    "pids_valid = pids[ : int(round(validation_prop * len(pids)))]\n",
    "pids_train = pids[int(round(validation_prop * len(pids))) : ]\n",
    "pids_test = test_df['patientId'].unique()\n",
    "\n",
    "print('Train set: {}'.format(len(pids_train)))\n",
    "print('Validation set: {}'.format(len(pids_valid)))\n",
    "print('Test set: {}'.format(len(pids_test)))\n",
    "\n",
    "boxes_by_pid_dict = {}\n",
    "for pid in train_df.loc[(train_df['Target'] == 1)]['patientId'].unique().tolist():\n",
    "    boxes_by_pid_dict[pid] = get_patient_boxes(train_df, pid)\n",
    "print('{} ({:.1f}%) images have bounding boxes'.format(len(boxes_by_pid_dict), 100*(len(boxes_by_pid_dict)/len(pids))))"
   ]
  }
 ],
 "metadata": {
  "kernelspec": {
   "display_name": "Python 3",
   "language": "python",
   "name": "python3"
  }
 },
 "nbformat": 4,
 "nbformat_minor": 2
}
