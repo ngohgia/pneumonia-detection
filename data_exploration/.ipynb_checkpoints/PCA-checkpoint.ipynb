{
 "cells": [
  {
   "cell_type": "markdown",
   "metadata": {},
   "source": [
    "# Read in data"
   ]
  },
  {
   "cell_type": "code",
   "execution_count": 14,
   "metadata": {},
   "outputs": [
    {
     "name": "stdout",
     "output_type": "stream",
     "text": [
      "{'dicom': '../input/stage_1_train_images//677b6db0-31ab-47d4-bb96-5cd301c8f6ac.dcm', 'target': 0, 'class': 'Normal', 'age': 11, 'view': 'PA', 'sex': 'F', 'boxes': []}\n"
     ]
    }
   ],
   "source": [
    "import matplotlib.pyplot as plt\n",
    "import numpy as np\n",
    "import pydicom\n",
    "import pylab\n",
    "import pandas as pd\n",
    "from glob import glob\n",
    "import os.path as op\n",
    "from sklearn import decomposition\n",
    "\n",
    "np.random.seed(10000)\n",
    "\n",
    "class_info_path = '../input/stage_1_detailed_class_info.csv'\n",
    "train_labels_path = '../input/stage_1_train_labels.csv'\n",
    "images_dir = '../input/stage_1_train_images/'\n",
    "\n",
    "# data frames\n",
    "class_info_df = pd.read_csv(class_info_path)\n",
    "train_labels_df = pd.read_csv(train_labels_path)\n",
    "images_df = pd.DataFrame({'path': glob(op.join(images_dir, '*.dcm'))})\n",
    "images_df['patientId'] = images_df['path'].map(lambda x: op.splitext(op.basename(x))[0])\n",
    "# parse DICOM header into dataframe\n",
    "DICOM_TAGS = ['PatientAge', 'ViewPosition', 'PatientSex']\n",
    "def get_tags(image_path):\n",
    "    tag_data = pydicom.read_file(image_path, stop_before_pixels = True)\n",
    "    tag_dict = {tag: getattr(tag_data, tag, '') for tag in DICOM_TAGS}\n",
    "    tag_dict['path'] = image_path\n",
    "    return pd.Series(tag_dict)\n",
    "meta_df = images_df.apply(lambda x: get_tags(x['path']), 1)\n",
    "meta_df['PatientAge'] = meta_df['PatientAge'].map(int)\n",
    "meta_df.drop('path', 1).describe(exclude=[np.number])\n",
    "\n",
    "# concatenate the data frames\n",
    "info_df = pd.concat([class_info_df, train_labels_df.drop('patientId', 1)], 1)\n",
    "image_with_meta_df = pd.merge(images_df, meta_df, on='path')\n",
    "bbox_with_info_df = pd.merge(info_df, image_with_meta_df, on='patientId', how='left')\n",
    "\n",
    "# parse data into a dictionary by patientId\n",
    "def parse_patient_data(df):\n",
    "    \"\"\"\n",
    "    Parse pandas dataframe into the following dictionary:\n",
    "      data = {\n",
    "        patientID: {\n",
    "          'dicom': path/to/dicom/file,\n",
    "          'target': 0 if normal, 1 if pneumonia,\n",
    "          'boxes': list of box(es), each box is an array of number [x y width height],\n",
    "          'class': one of the three values 'Lung Opacity', 'No Lung Opacity / Not Norma', 'Normal',\n",
    "          'age': age of the patient,\n",
    "          'view': either 'AP' - anteriorposterior, or 'PA' - posterioranterior,\n",
    "          'sex': either 'Male' or 'Female'\n",
    "        },\n",
    "        ...\n",
    "      }\n",
    "    \"\"\"\n",
    "    \n",
    "    extract_box = lambda row: [row['x'], row['y'], row['width'], row['height']]\n",
    "    \n",
    "    data = {}\n",
    "    for n, row in df.iterrows():\n",
    "        pid = row['patientId']\n",
    "        if pid not in data:\n",
    "            data[pid] = {\n",
    "                'dicom': '%s/%s.dcm' % (images_dir, pid),\n",
    "                'target': row['Target'],\n",
    "                'class': row['class'],\n",
    "                'age': row['PatientAge'],\n",
    "                'view': row['ViewPosition'],\n",
    "                'sex': row['PatientSex'],\n",
    "                'boxes': []}\n",
    "            \n",
    "        if data[pid]['target'] == 1:\n",
    "            data[pid]['boxes'].append(extract_box(row))\n",
    "    return data\n",
    "\n",
    "patients_data = parse_patient_data(bbox_with_info_df)\n",
    "patient_ids = list(patients_data.keys())\n",
    "print(patients_data[np.random.choice(patient_ids)])"
   ]
  },
  {
   "cell_type": "markdown",
   "metadata": {},
   "source": [
    "# Get image matrix"
   ]
  },
  {
   "cell_type": "code",
   "execution_count": 24,
   "metadata": {},
   "outputs": [],
   "source": [
    "num_samples = 100\n",
    "im_dim = 1024\n",
    "im_matrix = np.zeros((im_dim * im_dim, num_samples))\n",
    "for i in range(num_samples):\n",
    "    pid = patient_ids[i]\n",
    "    pdata = patients_data[pid]\n",
    "    d = pydicom.read_file(pdata['dicom'])\n",
    "    im = d.pixel_array\n",
    "    \n",
    "    im_matrix[:, i] = im.flatten()"
   ]
  },
  {
   "cell_type": "markdown",
   "metadata": {},
   "source": [
    "# Run PCA"
   ]
  },
  {
   "cell_type": "code",
   "execution_count": 39,
   "metadata": {},
   "outputs": [
    {
     "name": "stdout",
     "output_type": "stream",
     "text": [
      "(1048576, 100)\n",
      "(1048576, 10)\n"
     ]
    },
    {
     "ename": "NameError",
     "evalue": "name 'amax' is not defined",
     "output_type": "error",
     "traceback": [
      "\u001b[0;31m---------------------------------------------------------------------------\u001b[0m",
      "\u001b[0;31mNameError\u001b[0m                                 Traceback (most recent call last)",
      "\u001b[0;32m<ipython-input-39-9d53ab12477d>\u001b[0m in \u001b[0;36m<module>\u001b[0;34m()\u001b[0m\n\u001b[1;32m     11\u001b[0m \u001b[0mprint\u001b[0m\u001b[0;34m(\u001b[0m\u001b[0mim_matrix\u001b[0m\u001b[0;34m.\u001b[0m\u001b[0mshape\u001b[0m\u001b[0;34m)\u001b[0m\u001b[0;34m\u001b[0m\u001b[0m\n\u001b[1;32m     12\u001b[0m \u001b[0mprint\u001b[0m\u001b[0;34m(\u001b[0m\u001b[0mtransformed_im_matrix\u001b[0m\u001b[0;34m.\u001b[0m\u001b[0mshape\u001b[0m\u001b[0;34m)\u001b[0m\u001b[0;34m\u001b[0m\u001b[0m\n\u001b[0;32m---> 13\u001b[0;31m \u001b[0mprint\u001b[0m\u001b[0;34m(\u001b[0m\u001b[0mamax\u001b[0m\u001b[0;34m(\u001b[0m\u001b[0mtransformed_im_marix\u001b[0m\u001b[0;34m)\u001b[0m\u001b[0;34m)\u001b[0m\u001b[0;34m\u001b[0m\u001b[0m\n\u001b[0m\u001b[1;32m     14\u001b[0m \u001b[0mprint\u001b[0m\u001b[0;34m(\u001b[0m\u001b[0mamin\u001b[0m\u001b[0;34m(\u001b[0m\u001b[0mtransformed_im_marix\u001b[0m\u001b[0;34m)\u001b[0m\u001b[0;34m)\u001b[0m\u001b[0;34m\u001b[0m\u001b[0m\n\u001b[1;32m     15\u001b[0m \u001b[0;34m\u001b[0m\u001b[0m\n",
      "\u001b[0;31mNameError\u001b[0m: name 'amax' is not defined"
     ]
    }
   ],
   "source": [
    "def visualize_component(component, im_dim):\n",
    "    im = component.reshape((im_dim, im_dim))\n",
    "    im = np.stack([im] * 3, axis = 2)\n",
    "    \n",
    "    pylab.imshow(im, cmap = pylab.cm.gist_gray)\n",
    "\n",
    "pca = decomposition.FastICA(n_components = 10)\n",
    "pca.fit(im_matrix)\n",
    "transformed_im_matrix = pca.transform(im_matrix)\n",
    "\n",
    "print(im_matrix.shape)\n",
    "print(transformed_im_matrix.shape)\n",
    "print(np.amax(transformed_im_marix))\n",
    "print(np.amin(transformed_im_marix))\n",
    "\n",
    "for i in range(10):\n",
    "    plt.figure()\n",
    "    visualize_component(transformed_im_matrix[:, i], im_dim)"
   ]
  }
 ],
 "metadata": {
  "kernelspec": {
   "display_name": "Python 3",
   "language": "python",
   "name": "python3"
  },
  "language_info": {
   "codemirror_mode": {
    "name": "ipython",
    "version": 3
   },
   "file_extension": ".py",
   "mimetype": "text/x-python",
   "name": "python",
   "nbconvert_exporter": "python",
   "pygments_lexer": "ipython3",
   "version": "3.6.0"
  }
 },
 "nbformat": 4,
 "nbformat_minor": 2
}
